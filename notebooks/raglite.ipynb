{
 "cells": [
  {
   "cell_type": "code",
   "execution_count": null,
   "id": "cfbb5be7",
   "metadata": {},
   "outputs": [],
   "source": [
    "!pip install raglite raglite[pandoc] \n",
    "!pip install llama-cpp-python\n",
    "import os\n",
    "\n",
    "os.environ[\"OPENAI_API_URL\"] = os.environ[\"OPENAI_API_URL\"]\n",
    "os.environ[\"OPENAI_API_KEY\"] = os.environ[\"OPENAI_API_KEY\"]"
   ]
  },
  {
   "cell_type": "code",
   "execution_count": 3,
   "id": "6a15a47a",
   "metadata": {},
   "outputs": [],
   "source": [
    "from raglite import RAGLiteConfig\n",
    "# Example 'local' config with a DuckDB database and a llama.cpp LLM:\n",
    "my_config = RAGLiteConfig(\n",
    "    db_url=\"duckdb:///raglite.db\",\n",
    "    llm=\"ollama/qwen3:8b\",\n",
    "    embedder=\"nomic-embed-text\", # More than 512 tokens degrades bge-m3's performance\n",
    ")"
   ]
  },
  {
   "cell_type": "code",
   "execution_count": 4,
   "id": "de0381ba",
   "metadata": {},
   "outputs": [
    {
     "ename": "Exception",
     "evalue": "This model isn't mapped yet. model=nomic-embed-text, custom_llm_provider=None. Add it here - https://github.com/BerriAI/litellm/blob/main/model_prices_and_context_window.json.",
     "output_type": "error",
     "traceback": [
      "\u001b[31m---------------------------------------------------------------------------\u001b[39m",
      "\u001b[31mValueError\u001b[39m                                Traceback (most recent call last)",
      "\u001b[36mFile \u001b[39m\u001b[32m/shared/.venv/lib/python3.11/site-packages/litellm/utils.py:4552\u001b[39m, in \u001b[36m_get_model_info_helper\u001b[39m\u001b[34m(model, custom_llm_provider)\u001b[39m\n\u001b[32m   4551\u001b[39m \u001b[38;5;28;01mif\u001b[39;00m _model_info \u001b[38;5;129;01mis\u001b[39;00m \u001b[38;5;28;01mNone\u001b[39;00m \u001b[38;5;129;01mor\u001b[39;00m key \u001b[38;5;129;01mis\u001b[39;00m \u001b[38;5;28;01mNone\u001b[39;00m:\n\u001b[32m-> \u001b[39m\u001b[32m4552\u001b[39m     \u001b[38;5;28;01mraise\u001b[39;00m \u001b[38;5;167;01mValueError\u001b[39;00m(\n\u001b[32m   4553\u001b[39m         \u001b[33m\"\u001b[39m\u001b[33mThis model isn\u001b[39m\u001b[33m'\u001b[39m\u001b[33mt mapped yet. Add it here - https://github.com/BerriAI/litellm/blob/main/model_prices_and_context_window.json\u001b[39m\u001b[33m\"\u001b[39m\n\u001b[32m   4554\u001b[39m     )\n\u001b[32m   4556\u001b[39m _input_cost_per_token: Optional[\u001b[38;5;28mfloat\u001b[39m] = _model_info.get(\n\u001b[32m   4557\u001b[39m     \u001b[33m\"\u001b[39m\u001b[33minput_cost_per_token\u001b[39m\u001b[33m\"\u001b[39m\n\u001b[32m   4558\u001b[39m )\n",
      "\u001b[31mValueError\u001b[39m: This model isn't mapped yet. Add it here - https://github.com/BerriAI/litellm/blob/main/model_prices_and_context_window.json",
      "\nDuring handling of the above exception, another exception occurred:\n",
      "\u001b[31mException\u001b[39m                                 Traceback (most recent call last)",
      "\u001b[36mCell\u001b[39m\u001b[36m \u001b[39m\u001b[32mIn[4]\u001b[39m\u001b[32m, line 8\u001b[39m\n\u001b[32m      3\u001b[39m \u001b[38;5;28;01mfrom\u001b[39;00m\u001b[38;5;250m \u001b[39m\u001b[34;01mraglite\u001b[39;00m\u001b[38;5;250m \u001b[39m\u001b[38;5;28;01mimport\u001b[39;00m Document, insert_documents\n\u001b[32m      5\u001b[39m documents = [\n\u001b[32m      6\u001b[39m     Document.from_path(Path(\u001b[33m\"\u001b[39m\u001b[33m../client/src/store/project.js\u001b[39m\u001b[33m\"\u001b[39m)),\n\u001b[32m      7\u001b[39m ]\n\u001b[32m----> \u001b[39m\u001b[32m8\u001b[39m \u001b[43minsert_documents\u001b[49m\u001b[43m(\u001b[49m\u001b[43mdocuments\u001b[49m\u001b[43m,\u001b[49m\u001b[43m \u001b[49m\u001b[43mconfig\u001b[49m\u001b[43m=\u001b[49m\u001b[43mmy_config\u001b[49m\u001b[43m)\u001b[49m\n\u001b[32m     10\u001b[39m \u001b[38;5;66;03m# Insert documents given their text/plain or text/markdown content\u001b[39;00m\n\u001b[32m     11\u001b[39m content = \u001b[33m\"\"\"\u001b[39m\n\u001b[32m     12\u001b[39m \u001b[33m# ON THE ELECTRODYNAMICS OF MOVING BODIES\u001b[39m\n\u001b[32m     13\u001b[39m \u001b[33m## By A. EINSTEIN  June 30, 1905\u001b[39m\n\u001b[32m     14\u001b[39m \u001b[33mIt is known that Maxwell...\u001b[39m\n\u001b[32m     15\u001b[39m \u001b[33m\"\"\"\u001b[39m\n",
      "\u001b[36mFile \u001b[39m\u001b[32m/shared/.venv/lib/python3.11/site-packages/raglite/_insert.py:123\u001b[39m, in \u001b[36minsert_documents\u001b[39m\u001b[34m(documents, max_workers, config)\u001b[39m\n\u001b[32m    121\u001b[39m \u001b[38;5;66;03m# Skip documents that are already in the database.\u001b[39;00m\n\u001b[32m    122\u001b[39m batch_size = \u001b[32m128\u001b[39m\n\u001b[32m--> \u001b[39m\u001b[32m123\u001b[39m \u001b[38;5;28;01mwith\u001b[39;00m Session(engine := \u001b[43mcreate_database_engine\u001b[49m\u001b[43m(\u001b[49m\u001b[43mconfig\u001b[49m\u001b[43m \u001b[49m\u001b[43m:=\u001b[49m\u001b[43m \u001b[49m\u001b[43mconfig\u001b[49m\u001b[43m \u001b[49m\u001b[38;5;129;43;01mor\u001b[39;49;00m\u001b[43m \u001b[49m\u001b[43mRAGLiteConfig\u001b[49m\u001b[43m(\u001b[49m\u001b[43m)\u001b[49m\u001b[43m)\u001b[49m) \u001b[38;5;28;01mas\u001b[39;00m session:\n\u001b[32m    124\u001b[39m     existing_doc_ids: \u001b[38;5;28mset\u001b[39m[\u001b[38;5;28mstr\u001b[39m] = \u001b[38;5;28mset\u001b[39m()\n\u001b[32m    125\u001b[39m     \u001b[38;5;28;01mfor\u001b[39;00m i \u001b[38;5;129;01min\u001b[39;00m \u001b[38;5;28mrange\u001b[39m(\u001b[32m0\u001b[39m, \u001b[38;5;28mlen\u001b[39m(documents), batch_size):\n",
      "\u001b[36mFile \u001b[39m\u001b[32m/shared/.venv/lib/python3.11/site-packages/raglite/_database.py:511\u001b[39m, in \u001b[36mcreate_database_engine\u001b[39m\u001b[34m(config)\u001b[39m\n\u001b[32m    509\u001b[39m         session.commit()\n\u001b[32m    510\u001b[39m \u001b[38;5;66;03m# Get the embedding dimension.\u001b[39;00m\n\u001b[32m--> \u001b[39m\u001b[32m511\u001b[39m embedding_dim = \u001b[43mget_embedding_dim\u001b[49m\u001b[43m(\u001b[49m\u001b[43mconfig\u001b[49m\u001b[43m)\u001b[49m\n\u001b[32m    512\u001b[39m \u001b[38;5;66;03m# Create all SQLModel tables.\u001b[39;00m\n\u001b[32m    513\u001b[39m ChunkEmbedding.set_embedding_dim(embedding_dim)\n",
      "\u001b[36mFile \u001b[39m\u001b[32m/shared/.venv/lib/python3.11/site-packages/raglite/_litellm.py:359\u001b[39m, in \u001b[36mget_embedding_dim\u001b[39m\u001b[34m(config, fallback)\u001b[39m\n\u001b[32m    357\u001b[39m     _ = LlamaCppPythonLLM.llm(config.embedder, embedding=\u001b[38;5;28;01mTrue\u001b[39;00m)\n\u001b[32m    358\u001b[39m \u001b[38;5;66;03m# Attempt to read the embedding dimension from LiteLLM's model info.\u001b[39;00m\n\u001b[32m--> \u001b[39m\u001b[32m359\u001b[39m model_info = \u001b[43mget_model_info\u001b[49m\u001b[43m(\u001b[49m\u001b[43mconfig\u001b[49m\u001b[43m.\u001b[49m\u001b[43membedder\u001b[49m\u001b[43m)\u001b[49m\n\u001b[32m    360\u001b[39m embedding_dim = model_info.get(\u001b[33m\"\u001b[39m\u001b[33moutput_vector_size\u001b[39m\u001b[33m\"\u001b[39m)\n\u001b[32m    361\u001b[39m \u001b[38;5;28;01mif\u001b[39;00m \u001b[38;5;28misinstance\u001b[39m(embedding_dim, \u001b[38;5;28mint\u001b[39m) \u001b[38;5;129;01mand\u001b[39;00m embedding_dim > \u001b[32m0\u001b[39m:\n",
      "\u001b[36mFile \u001b[39m\u001b[32m/shared/.venv/lib/python3.11/site-packages/litellm/utils.py:4760\u001b[39m, in \u001b[36mget_model_info\u001b[39m\u001b[34m(model, custom_llm_provider)\u001b[39m\n\u001b[32m   4686\u001b[39m \u001b[38;5;250m\u001b[39m\u001b[33;03m\"\"\"\u001b[39;00m\n\u001b[32m   4687\u001b[39m \u001b[33;03mGet a dict for the maximum tokens (context window), input_cost_per_token, output_cost_per_token  for a given model.\u001b[39;00m\n\u001b[32m   4688\u001b[39m \n\u001b[32m   (...)\u001b[39m\u001b[32m   4754\u001b[39m \u001b[33;03m    }\u001b[39;00m\n\u001b[32m   4755\u001b[39m \u001b[33;03m\"\"\"\u001b[39;00m\n\u001b[32m   4756\u001b[39m supported_openai_params = litellm.get_supported_openai_params(\n\u001b[32m   4757\u001b[39m     model=model, custom_llm_provider=custom_llm_provider\n\u001b[32m   4758\u001b[39m )\n\u001b[32m-> \u001b[39m\u001b[32m4760\u001b[39m _model_info = \u001b[43m_get_model_info_helper\u001b[49m\u001b[43m(\u001b[49m\n\u001b[32m   4761\u001b[39m \u001b[43m    \u001b[49m\u001b[43mmodel\u001b[49m\u001b[43m=\u001b[49m\u001b[43mmodel\u001b[49m\u001b[43m,\u001b[49m\n\u001b[32m   4762\u001b[39m \u001b[43m    \u001b[49m\u001b[43mcustom_llm_provider\u001b[49m\u001b[43m=\u001b[49m\u001b[43mcustom_llm_provider\u001b[49m\u001b[43m,\u001b[49m\n\u001b[32m   4763\u001b[39m \u001b[43m\u001b[49m\u001b[43m)\u001b[49m\n\u001b[32m   4765\u001b[39m verbose_logger.debug(\u001b[33mf\u001b[39m\u001b[33m\"\u001b[39m\u001b[33mmodel_info: \u001b[39m\u001b[38;5;132;01m{\u001b[39;00m_model_info\u001b[38;5;132;01m}\u001b[39;00m\u001b[33m\"\u001b[39m)\n\u001b[32m   4767\u001b[39m returned_model_info = ModelInfo(\n\u001b[32m   4768\u001b[39m     **_model_info, supported_openai_params=supported_openai_params\n\u001b[32m   4769\u001b[39m )\n",
      "\u001b[36mFile \u001b[39m\u001b[32m/shared/.venv/lib/python3.11/site-packages/litellm/utils.py:4678\u001b[39m, in \u001b[36m_get_model_info_helper\u001b[39m\u001b[34m(model, custom_llm_provider)\u001b[39m\n\u001b[32m   4676\u001b[39m \u001b[38;5;28;01mif\u001b[39;00m \u001b[33m\"\u001b[39m\u001b[33mOllamaError\u001b[39m\u001b[33m\"\u001b[39m \u001b[38;5;129;01min\u001b[39;00m \u001b[38;5;28mstr\u001b[39m(e):\n\u001b[32m   4677\u001b[39m     \u001b[38;5;28;01mraise\u001b[39;00m e\n\u001b[32m-> \u001b[39m\u001b[32m4678\u001b[39m \u001b[38;5;28;01mraise\u001b[39;00m \u001b[38;5;167;01mException\u001b[39;00m(\n\u001b[32m   4679\u001b[39m     \u001b[33m\"\u001b[39m\u001b[33mThis model isn\u001b[39m\u001b[33m'\u001b[39m\u001b[33mt mapped yet. model=\u001b[39m\u001b[38;5;132;01m{}\u001b[39;00m\u001b[33m, custom_llm_provider=\u001b[39m\u001b[38;5;132;01m{}\u001b[39;00m\u001b[33m. Add it here - https://github.com/BerriAI/litellm/blob/main/model_prices_and_context_window.json.\u001b[39m\u001b[33m\"\u001b[39m.format(\n\u001b[32m   4680\u001b[39m         model, custom_llm_provider\n\u001b[32m   4681\u001b[39m     )\n\u001b[32m   4682\u001b[39m )\n",
      "\u001b[31mException\u001b[39m: This model isn't mapped yet. model=nomic-embed-text, custom_llm_provider=None. Add it here - https://github.com/BerriAI/litellm/blob/main/model_prices_and_context_window.json."
     ]
    }
   ],
   "source": [
    "# Insert documents given their file path\n",
    "from pathlib import Path\n",
    "from raglite import Document, insert_documents\n",
    "\n",
    "documents = [\n",
    "    Document.from_path(Path(\"../client/src/store/project.js\")),\n",
    "]\n",
    "insert_documents(documents, config=my_config)\n",
    "\n",
    "# Insert documents given their text/plain or text/markdown content\n",
    "content = \"\"\"\n",
    "# ON THE ELECTRODYNAMICS OF MOVING BODIES\n",
    "## By A. EINSTEIN  June 30, 1905\n",
    "It is known that Maxwell...\n",
    "\"\"\"\n",
    "documents = [\n",
    "    Document.from_text(content)\n",
    "]\n",
    "insert_documents(documents, config=my_config)"
   ]
  }
 ],
 "metadata": {
  "kernelspec": {
   "display_name": ".venv",
   "language": "python",
   "name": "python3"
  },
  "language_info": {
   "codemirror_mode": {
    "name": "ipython",
    "version": 3
   },
   "file_extension": ".py",
   "mimetype": "text/x-python",
   "name": "python",
   "nbconvert_exporter": "python",
   "pygments_lexer": "ipython3",
   "version": "3.11.2"
  }
 },
 "nbformat": 4,
 "nbformat_minor": 5
}
