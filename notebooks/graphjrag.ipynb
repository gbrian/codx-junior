{
 "cells": [
  {
   "cell_type": "code",
   "execution_count": null,
   "id": "454a36e8",
   "metadata": {},
   "outputs": [],
   "source": [
    "!pip install graphrag"
   ]
  },
  {
   "cell_type": "code",
   "execution_count": 3,
   "id": "74644d8f",
   "metadata": {},
   "outputs": [],
   "source": [
    "!graphrag init --root ./rag_data"
   ]
  },
  {
   "cell_type": "code",
   "execution_count": 4,
   "id": "6a6cb564",
   "metadata": {},
   "outputs": [],
   "source": [
    "!graphrag index --root ./rag_data"
   ]
  }
 ],
 "metadata": {
  "kernelspec": {
   "display_name": ".venv",
   "language": "python",
   "name": "python3"
  },
  "language_info": {
   "codemirror_mode": {
    "name": "ipython",
    "version": 3
   },
   "file_extension": ".py",
   "mimetype": "text/x-python",
   "name": "python",
   "nbconvert_exporter": "python",
   "pygments_lexer": "ipython3",
   "version": "3.11.2"
  }
 },
 "nbformat": 4,
 "nbformat_minor": 5
}
