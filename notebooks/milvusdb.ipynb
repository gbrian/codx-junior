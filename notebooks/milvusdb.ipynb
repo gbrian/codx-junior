{
 "cells": [
  {
   "cell_type": "code",
   "execution_count": null,
   "metadata": {},
   "outputs": [
    {
     "ename": "",
     "evalue": "",
     "output_type": "error",
     "traceback": [
      "\u001b[1;31mRunning cells with 'codx-junior-venv' requires the ipykernel package.\n",
      "\u001b[1;31mRun the following command to install 'ipykernel' into the Python environment. \n",
      "\u001b[1;31mCommand: '/shared/codx-junior-venv/bin/python -m pip install ipykernel -U --force-reinstall'"
     ]
    }
   ],
   "source": [
    "from codx.junior.knowledge.knowledge_db import KnowledgeDB\n",
    "from codx.junior.settings import CODXJuniorSettings"
   ]
  }
 ],
 "metadata": {
  "kernelspec": {
   "display_name": "codx-junior-venv",
   "language": "python",
   "name": "python3"
  },
  "language_info": {
   "name": "python",
   "version": "3.9.2"
  },
  "orig_nbformat": 4
 },
 "nbformat": 4,
 "nbformat_minor": 2
}
